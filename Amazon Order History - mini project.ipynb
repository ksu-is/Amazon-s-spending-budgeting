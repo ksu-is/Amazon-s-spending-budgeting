{
 "cells": [
  {
   "cell_type": "code",
   "execution_count": 1,
   "metadata": {},
   "outputs": [],
   "source": [
    "import pandas as pd"
   ]
  },
  {
   "cell_type": "code",
   "execution_count": 2,
   "metadata": {},
   "outputs": [],
   "source": [
    "orders = pd.read_csv('amazon_order_history.csv')"
   ]
  },
  {
   "cell_type": "code",
   "execution_count": null,
   "metadata": {},
   "outputs": [],
   "source": []
  },
  {
   "cell_type": "code",
   "execution_count": 3,
   "metadata": {},
   "outputs": [
    {
     "data": {
      "text/plain": [
       "(54, 12)"
      ]
     },
     "execution_count": 3,
     "metadata": {},
     "output_type": "execute_result"
    }
   ],
   "source": [
    "orders.shape"
   ]
  },
  {
   "cell_type": "code",
   "execution_count": 4,
   "metadata": {},
   "outputs": [
    {
     "data": {
      "text/plain": [
       "Index(['order id', 'items', 'to', 'date', 'total', 'postage', 'gift', 'VAT',\n",
       "       'GST', 'PST', 'refund', 'payments'],\n",
       "      dtype='object')"
      ]
     },
     "execution_count": 4,
     "metadata": {},
     "output_type": "execute_result"
    }
   ],
   "source": [
    "orders.columns"
   ]
  },
  {
   "cell_type": "code",
   "execution_count": 5,
   "metadata": {},
   "outputs": [
    {
     "data": {
      "text/html": [
       "<div>\n",
       "<style scoped>\n",
       "    .dataframe tbody tr th:only-of-type {\n",
       "        vertical-align: middle;\n",
       "    }\n",
       "\n",
       "    .dataframe tbody tr th {\n",
       "        vertical-align: top;\n",
       "    }\n",
       "\n",
       "    .dataframe thead th {\n",
       "        text-align: right;\n",
       "    }\n",
       "</style>\n",
       "<table border=\"1\" class=\"dataframe\">\n",
       "  <thead>\n",
       "    <tr style=\"text-align: right;\">\n",
       "      <th></th>\n",
       "      <th>order id</th>\n",
       "      <th>items</th>\n",
       "      <th>to</th>\n",
       "      <th>date</th>\n",
       "      <th>total</th>\n",
       "      <th>postage</th>\n",
       "      <th>gift</th>\n",
       "      <th>VAT</th>\n",
       "      <th>GST</th>\n",
       "      <th>PST</th>\n",
       "      <th>refund</th>\n",
       "      <th>payments</th>\n",
       "    </tr>\n",
       "  </thead>\n",
       "  <tbody>\n",
       "    <tr>\n",
       "      <th>0</th>\n",
       "      <td>702-5914879-3089859</td>\n",
       "      <td>Pre-Seasoned Cast Iron 2-In-1 Multi Cooker - 3...</td>\n",
       "      <td>Anissah Abbas</td>\n",
       "      <td>2020-01-21</td>\n",
       "      <td>CDN$ 42.99</td>\n",
       "      <td>CDN$ 0.00</td>\n",
       "      <td>0</td>\n",
       "      <td>CDN$ 42.99</td>\n",
       "      <td>0</td>\n",
       "      <td>CDN$ 0.00</td>\n",
       "      <td>0</td>\n",
       "      <td>Visa ending in 2545: January 22, 2020: CDN$ 42...</td>\n",
       "    </tr>\n",
       "    <tr>\n",
       "      <th>1</th>\n",
       "      <td>D01-9496487-7878646</td>\n",
       "      <td>1 Book Monthly Membership;</td>\n",
       "      <td>0</td>\n",
       "      <td>2020-01-17</td>\n",
       "      <td>CDN$ 14.95</td>\n",
       "      <td>0</td>\n",
       "      <td>0</td>\n",
       "      <td>0</td>\n",
       "      <td>0</td>\n",
       "      <td>Item(s) Subtotal: CDN$ 14.95        ----      ...</td>\n",
       "      <td>0</td>\n",
       "      <td>2020-01-17: CDN$ 14.95;</td>\n",
       "    </tr>\n",
       "    <tr>\n",
       "      <th>3</th>\n",
       "      <td>702-4586176-1878651</td>\n",
       "      <td>Whiskey Words &amp; a Shovel I; Adrien Gagnon - Re...</td>\n",
       "      <td>Anissah Abbas</td>\n",
       "      <td>2020-03-23</td>\n",
       "      <td>CDN$ 32.08</td>\n",
       "      <td>CDN$ 6.99</td>\n",
       "      <td>0</td>\n",
       "      <td>CDN$ 29.37</td>\n",
       "      <td>0</td>\n",
       "      <td>CDN$ 1.25</td>\n",
       "      <td>0</td>\n",
       "      <td>Visa ending in 1837: March 23, 2020: CDN$ 32.08;</td>\n",
       "    </tr>\n",
       "    <tr>\n",
       "      <th>4</th>\n",
       "      <td>702-3780319-3824235</td>\n",
       "      <td>DTECH USB Printer Cable 6 Feet Type A to B Mal...</td>\n",
       "      <td>Anissah Abbas</td>\n",
       "      <td>2020-03-20</td>\n",
       "      <td>CDN$ 10.99</td>\n",
       "      <td>CDN$ 0.00</td>\n",
       "      <td>0</td>\n",
       "      <td>CDN$ 10.99</td>\n",
       "      <td>0</td>\n",
       "      <td>CDN$ 0.00</td>\n",
       "      <td>0</td>\n",
       "      <td>Visa ending in 1837: March 20, 2020: CDN$ 10.99;</td>\n",
       "    </tr>\n",
       "    <tr>\n",
       "      <th>5</th>\n",
       "      <td>D01-5421149-3328268</td>\n",
       "      <td>1 Book Monthly Membership;</td>\n",
       "      <td>0</td>\n",
       "      <td>2020-03-17</td>\n",
       "      <td>CDN$ 16.44</td>\n",
       "      <td>0</td>\n",
       "      <td>0</td>\n",
       "      <td>0</td>\n",
       "      <td>0</td>\n",
       "      <td>Item(s) Subtotal: CDN$ 14.95        ----      ...</td>\n",
       "      <td>0</td>\n",
       "      <td>2020-03-17: CDN$ 16.44;</td>\n",
       "    </tr>\n",
       "  </tbody>\n",
       "</table>\n",
       "</div>"
      ],
      "text/plain": [
       "              order id                                              items  \\\n",
       "0  702-5914879-3089859  Pre-Seasoned Cast Iron 2-In-1 Multi Cooker - 3...   \n",
       "1  D01-9496487-7878646                        1 Book Monthly Membership;    \n",
       "3  702-4586176-1878651  Whiskey Words & a Shovel I; Adrien Gagnon - Re...   \n",
       "4  702-3780319-3824235  DTECH USB Printer Cable 6 Feet Type A to B Mal...   \n",
       "5  D01-5421149-3328268                        1 Book Monthly Membership;    \n",
       "\n",
       "              to        date       total    postage gift         VAT GST  \\\n",
       "0  Anissah Abbas  2020-01-21  CDN$ 42.99  CDN$ 0.00    0  CDN$ 42.99   0   \n",
       "1              0  2020-01-17  CDN$ 14.95          0    0           0   0   \n",
       "3  Anissah Abbas  2020-03-23  CDN$ 32.08  CDN$ 6.99    0  CDN$ 29.37   0   \n",
       "4  Anissah Abbas  2020-03-20  CDN$ 10.99  CDN$ 0.00    0  CDN$ 10.99   0   \n",
       "5              0  2020-03-17  CDN$ 16.44          0    0           0   0   \n",
       "\n",
       "                                                 PST refund  \\\n",
       "0                                          CDN$ 0.00      0   \n",
       "1  Item(s) Subtotal: CDN$ 14.95        ----      ...      0   \n",
       "3                                          CDN$ 1.25      0   \n",
       "4                                          CDN$ 0.00      0   \n",
       "5  Item(s) Subtotal: CDN$ 14.95        ----      ...      0   \n",
       "\n",
       "                                            payments  \n",
       "0  Visa ending in 2545: January 22, 2020: CDN$ 42...  \n",
       "1                           2020-01-17: CDN$ 14.95;   \n",
       "3  Visa ending in 1837: March 23, 2020: CDN$ 32.08;   \n",
       "4  Visa ending in 1837: March 20, 2020: CDN$ 10.99;   \n",
       "5                           2020-03-17: CDN$ 16.44;   "
      ]
     },
     "execution_count": 5,
     "metadata": {},
     "output_type": "execute_result"
    }
   ],
   "source": [
    "orders = orders[orders.total != '1 Audible Credit']\n",
    "orders.head()"
   ]
  },
  {
   "cell_type": "code",
   "execution_count": 6,
   "metadata": {},
   "outputs": [],
   "source": [
    "orders['total'] = orders['total'].replace('[CDN$, .]', '', regex=True)"
   ]
  },
  {
   "cell_type": "code",
   "execution_count": 7,
   "metadata": {},
   "outputs": [
    {
     "data": {
      "text/plain": [
       "0                     4299\n",
       "1                     1495\n",
       "3                     3208\n",
       "4                     1099\n",
       "5                     1644\n",
       "6                     3499\n",
       "7                     1644\n",
       "8                     1034\n",
       "9                     2797\n",
       "11                    3499\n",
       "12                    4444\n",
       "13                    1644\n",
       "14                    3499\n",
       "15                   16095\n",
       "16                    3897\n",
       "17                    1644\n",
       "18                    2999\n",
       "19                    1644\n",
       "20                    1644\n",
       "21                    1294\n",
       "23                    1999\n",
       "24                    3218\n",
       "25                    6566\n",
       "26                    1644\n",
       "27                     998\n",
       "28                    1699\n",
       "29                    2299\n",
       "30                     979\n",
       "32                    1609\n",
       "33                    1299\n",
       "34                    2951\n",
       "35                    3499\n",
       "36                    1644\n",
       "41                    4742\n",
       "42                    3537\n",
       "44                     866\n",
       "45                    1899\n",
       "46                    5518\n",
       "47                    1644\n",
       "48                    4095\n",
       "49                    1967\n",
       "50                   19427\n",
       "51                    7258\n",
       "52                    3599\n",
       "53    =SUBTOTAL(109E2:E54)\n",
       "Name: total, dtype: object"
      ]
     },
     "execution_count": 7,
     "metadata": {},
     "output_type": "execute_result"
    }
   ],
   "source": [
    "orders['total']"
   ]
  },
  {
   "cell_type": "code",
   "execution_count": 8,
   "metadata": {},
   "outputs": [
    {
     "data": {
      "text/plain": [
       "48     4095\n",
       "49     1967\n",
       "50    19427\n",
       "51     7258\n",
       "52     3599\n",
       "Name: total, dtype: object"
      ]
     },
     "execution_count": 8,
     "metadata": {},
     "output_type": "execute_result"
    }
   ],
   "source": [
    "orders.drop([53], axis=0, inplace=True)\n",
    "orders['total'].tail()\n",
    "#orders['total'] = orders['total'].astype(float)"
   ]
  },
  {
   "cell_type": "code",
   "execution_count": 9,
   "metadata": {},
   "outputs": [],
   "source": [
    "orders['total'] = orders['total'].astype(float)"
   ]
  },
  {
   "cell_type": "code",
   "execution_count": 10,
   "metadata": {},
   "outputs": [],
   "source": [
    "orders['total'] = orders['total'] / 100"
   ]
  },
  {
   "cell_type": "code",
   "execution_count": 11,
   "metadata": {},
   "outputs": [
    {
     "data": {
      "text/plain": [
       "1479.78"
      ]
     },
     "execution_count": 11,
     "metadata": {},
     "output_type": "execute_result"
    }
   ],
   "source": [
    "orders['total'].sum()"
   ]
  },
  {
   "cell_type": "code",
   "execution_count": 12,
   "metadata": {},
   "outputs": [
    {
     "data": {
      "text/plain": [
       "33.63136363636364"
      ]
     },
     "execution_count": 12,
     "metadata": {},
     "output_type": "execute_result"
    }
   ],
   "source": [
    "orders['total'].mean()"
   ]
  },
  {
   "cell_type": "code",
   "execution_count": 13,
   "metadata": {},
   "outputs": [
    {
     "data": {
      "text/plain": [
       "21.49"
      ]
     },
     "execution_count": 13,
     "metadata": {},
     "output_type": "execute_result"
    }
   ],
   "source": [
    "orders['total'].median()"
   ]
  },
  {
   "cell_type": "code",
   "execution_count": 14,
   "metadata": {},
   "outputs": [
    {
     "data": {
      "text/plain": [
       "194.27"
      ]
     },
     "execution_count": 14,
     "metadata": {},
     "output_type": "execute_result"
    }
   ],
   "source": [
    "orders['total'].max()"
   ]
  },
  {
   "cell_type": "code",
   "execution_count": 15,
   "metadata": {},
   "outputs": [
    {
     "data": {
      "text/plain": [
       "8.66"
      ]
     },
     "execution_count": 15,
     "metadata": {},
     "output_type": "execute_result"
    }
   ],
   "source": [
    "orders['total'].min()"
   ]
  },
  {
   "cell_type": "code",
   "execution_count": 16,
   "metadata": {},
   "outputs": [
    {
     "data": {
      "text/html": [
       "<div>\n",
       "<style scoped>\n",
       "    .dataframe tbody tr th:only-of-type {\n",
       "        vertical-align: middle;\n",
       "    }\n",
       "\n",
       "    .dataframe tbody tr th {\n",
       "        vertical-align: top;\n",
       "    }\n",
       "\n",
       "    .dataframe thead th {\n",
       "        text-align: right;\n",
       "    }\n",
       "</style>\n",
       "<table border=\"1\" class=\"dataframe\">\n",
       "  <thead>\n",
       "    <tr style=\"text-align: right;\">\n",
       "      <th></th>\n",
       "      <th>order id</th>\n",
       "      <th>items</th>\n",
       "      <th>to</th>\n",
       "      <th>date</th>\n",
       "      <th>total</th>\n",
       "      <th>postage</th>\n",
       "      <th>gift</th>\n",
       "      <th>VAT</th>\n",
       "      <th>GST</th>\n",
       "      <th>PST</th>\n",
       "      <th>refund</th>\n",
       "      <th>payments</th>\n",
       "    </tr>\n",
       "  </thead>\n",
       "  <tbody>\n",
       "    <tr>\n",
       "      <th>0</th>\n",
       "      <td>702-5914879-3089859</td>\n",
       "      <td>Pre-Seasoned Cast Iron 2-In-1 Multi Cooker - 3...</td>\n",
       "      <td>Anissah Abbas</td>\n",
       "      <td>2020-01-21</td>\n",
       "      <td>42.99</td>\n",
       "      <td>CDN$ 0.00</td>\n",
       "      <td>0</td>\n",
       "      <td>CDN$ 42.99</td>\n",
       "      <td>0</td>\n",
       "      <td>CDN$ 0.00</td>\n",
       "      <td>0</td>\n",
       "      <td>Visa ending in 2545: January 22, 2020: CDN$ 42...</td>\n",
       "    </tr>\n",
       "    <tr>\n",
       "      <th>1</th>\n",
       "      <td>D01-9496487-7878646</td>\n",
       "      <td>1 Book Monthly Membership;</td>\n",
       "      <td>0</td>\n",
       "      <td>2020-01-17</td>\n",
       "      <td>14.95</td>\n",
       "      <td>0</td>\n",
       "      <td>0</td>\n",
       "      <td>0</td>\n",
       "      <td>0</td>\n",
       "      <td>Item(s) Subtotal: CDN$ 14.95        ----      ...</td>\n",
       "      <td>0</td>\n",
       "      <td>2020-01-17: CDN$ 14.95;</td>\n",
       "    </tr>\n",
       "    <tr>\n",
       "      <th>3</th>\n",
       "      <td>702-4586176-1878651</td>\n",
       "      <td>Whiskey Words &amp; a Shovel I; Adrien Gagnon - Re...</td>\n",
       "      <td>Anissah Abbas</td>\n",
       "      <td>2020-03-23</td>\n",
       "      <td>32.08</td>\n",
       "      <td>CDN$ 6.99</td>\n",
       "      <td>0</td>\n",
       "      <td>CDN$ 29.37</td>\n",
       "      <td>0</td>\n",
       "      <td>CDN$ 1.25</td>\n",
       "      <td>0</td>\n",
       "      <td>Visa ending in 1837: March 23, 2020: CDN$ 32.08;</td>\n",
       "    </tr>\n",
       "    <tr>\n",
       "      <th>4</th>\n",
       "      <td>702-3780319-3824235</td>\n",
       "      <td>DTECH USB Printer Cable 6 Feet Type A to B Mal...</td>\n",
       "      <td>Anissah Abbas</td>\n",
       "      <td>2020-03-20</td>\n",
       "      <td>10.99</td>\n",
       "      <td>CDN$ 0.00</td>\n",
       "      <td>0</td>\n",
       "      <td>CDN$ 10.99</td>\n",
       "      <td>0</td>\n",
       "      <td>CDN$ 0.00</td>\n",
       "      <td>0</td>\n",
       "      <td>Visa ending in 1837: March 20, 2020: CDN$ 10.99;</td>\n",
       "    </tr>\n",
       "    <tr>\n",
       "      <th>5</th>\n",
       "      <td>D01-5421149-3328268</td>\n",
       "      <td>1 Book Monthly Membership;</td>\n",
       "      <td>0</td>\n",
       "      <td>2020-03-17</td>\n",
       "      <td>16.44</td>\n",
       "      <td>0</td>\n",
       "      <td>0</td>\n",
       "      <td>0</td>\n",
       "      <td>0</td>\n",
       "      <td>Item(s) Subtotal: CDN$ 14.95        ----      ...</td>\n",
       "      <td>0</td>\n",
       "      <td>2020-03-17: CDN$ 16.44;</td>\n",
       "    </tr>\n",
       "  </tbody>\n",
       "</table>\n",
       "</div>"
      ],
      "text/plain": [
       "              order id                                              items  \\\n",
       "0  702-5914879-3089859  Pre-Seasoned Cast Iron 2-In-1 Multi Cooker - 3...   \n",
       "1  D01-9496487-7878646                        1 Book Monthly Membership;    \n",
       "3  702-4586176-1878651  Whiskey Words & a Shovel I; Adrien Gagnon - Re...   \n",
       "4  702-3780319-3824235  DTECH USB Printer Cable 6 Feet Type A to B Mal...   \n",
       "5  D01-5421149-3328268                        1 Book Monthly Membership;    \n",
       "\n",
       "              to        date  total    postage gift         VAT GST  \\\n",
       "0  Anissah Abbas  2020-01-21  42.99  CDN$ 0.00    0  CDN$ 42.99   0   \n",
       "1              0  2020-01-17  14.95          0    0           0   0   \n",
       "3  Anissah Abbas  2020-03-23  32.08  CDN$ 6.99    0  CDN$ 29.37   0   \n",
       "4  Anissah Abbas  2020-03-20  10.99  CDN$ 0.00    0  CDN$ 10.99   0   \n",
       "5              0  2020-03-17  16.44          0    0           0   0   \n",
       "\n",
       "                                                 PST refund  \\\n",
       "0                                          CDN$ 0.00      0   \n",
       "1  Item(s) Subtotal: CDN$ 14.95        ----      ...      0   \n",
       "3                                          CDN$ 1.25      0   \n",
       "4                                          CDN$ 0.00      0   \n",
       "5  Item(s) Subtotal: CDN$ 14.95        ----      ...      0   \n",
       "\n",
       "                                            payments  \n",
       "0  Visa ending in 2545: January 22, 2020: CDN$ 42...  \n",
       "1                           2020-01-17: CDN$ 14.95;   \n",
       "3  Visa ending in 1837: March 23, 2020: CDN$ 32.08;   \n",
       "4  Visa ending in 1837: March 20, 2020: CDN$ 10.99;   \n",
       "5                           2020-03-17: CDN$ 16.44;   "
      ]
     },
     "execution_count": 16,
     "metadata": {},
     "output_type": "execute_result"
    }
   ],
   "source": [
    "orders.head()"
   ]
  },
  {
   "cell_type": "code",
   "execution_count": 17,
   "metadata": {},
   "outputs": [],
   "source": [
    "orders.drop(['order id', 'to', 'gift', 'refund', 'VAT', 'payments'], axis=1, inplace=True)"
   ]
  },
  {
   "cell_type": "code",
   "execution_count": 18,
   "metadata": {},
   "outputs": [],
   "source": [
    "orders['date'] = pd.to_datetime(orders['date'])"
   ]
  },
  {
   "cell_type": "code",
   "execution_count": 19,
   "metadata": {},
   "outputs": [
    {
     "data": {
      "text/html": [
       "<div>\n",
       "<style scoped>\n",
       "    .dataframe tbody tr th:only-of-type {\n",
       "        vertical-align: middle;\n",
       "    }\n",
       "\n",
       "    .dataframe tbody tr th {\n",
       "        vertical-align: top;\n",
       "    }\n",
       "\n",
       "    .dataframe thead th {\n",
       "        text-align: right;\n",
       "    }\n",
       "</style>\n",
       "<table border=\"1\" class=\"dataframe\">\n",
       "  <thead>\n",
       "    <tr style=\"text-align: right;\">\n",
       "      <th></th>\n",
       "      <th>items</th>\n",
       "      <th>date</th>\n",
       "      <th>total</th>\n",
       "      <th>postage</th>\n",
       "      <th>GST</th>\n",
       "      <th>PST</th>\n",
       "    </tr>\n",
       "  </thead>\n",
       "  <tbody>\n",
       "    <tr>\n",
       "      <th>0</th>\n",
       "      <td>Pre-Seasoned Cast Iron 2-In-1 Multi Cooker - 3...</td>\n",
       "      <td>2020-01-21</td>\n",
       "      <td>42.99</td>\n",
       "      <td>CDN$ 0.00</td>\n",
       "      <td>0</td>\n",
       "      <td>CDN$ 0.00</td>\n",
       "    </tr>\n",
       "    <tr>\n",
       "      <th>1</th>\n",
       "      <td>1 Book Monthly Membership;</td>\n",
       "      <td>2020-01-17</td>\n",
       "      <td>14.95</td>\n",
       "      <td>0</td>\n",
       "      <td>0</td>\n",
       "      <td>Item(s) Subtotal: CDN$ 14.95        ----      ...</td>\n",
       "    </tr>\n",
       "    <tr>\n",
       "      <th>3</th>\n",
       "      <td>Whiskey Words &amp; a Shovel I; Adrien Gagnon - Re...</td>\n",
       "      <td>2020-03-23</td>\n",
       "      <td>32.08</td>\n",
       "      <td>CDN$ 6.99</td>\n",
       "      <td>0</td>\n",
       "      <td>CDN$ 1.25</td>\n",
       "    </tr>\n",
       "    <tr>\n",
       "      <th>4</th>\n",
       "      <td>DTECH USB Printer Cable 6 Feet Type A to B Mal...</td>\n",
       "      <td>2020-03-20</td>\n",
       "      <td>10.99</td>\n",
       "      <td>CDN$ 0.00</td>\n",
       "      <td>0</td>\n",
       "      <td>CDN$ 0.00</td>\n",
       "    </tr>\n",
       "    <tr>\n",
       "      <th>5</th>\n",
       "      <td>1 Book Monthly Membership;</td>\n",
       "      <td>2020-03-17</td>\n",
       "      <td>16.44</td>\n",
       "      <td>0</td>\n",
       "      <td>0</td>\n",
       "      <td>Item(s) Subtotal: CDN$ 14.95        ----      ...</td>\n",
       "    </tr>\n",
       "  </tbody>\n",
       "</table>\n",
       "</div>"
      ],
      "text/plain": [
       "                                               items       date  total  \\\n",
       "0  Pre-Seasoned Cast Iron 2-In-1 Multi Cooker - 3... 2020-01-21  42.99   \n",
       "1                        1 Book Monthly Membership;  2020-01-17  14.95   \n",
       "3  Whiskey Words & a Shovel I; Adrien Gagnon - Re... 2020-03-23  32.08   \n",
       "4  DTECH USB Printer Cable 6 Feet Type A to B Mal... 2020-03-20  10.99   \n",
       "5                        1 Book Monthly Membership;  2020-03-17  16.44   \n",
       "\n",
       "     postage GST                                                PST  \n",
       "0  CDN$ 0.00   0                                          CDN$ 0.00  \n",
       "1          0   0  Item(s) Subtotal: CDN$ 14.95        ----      ...  \n",
       "3  CDN$ 6.99   0                                          CDN$ 1.25  \n",
       "4  CDN$ 0.00   0                                          CDN$ 0.00  \n",
       "5          0   0  Item(s) Subtotal: CDN$ 14.95        ----      ...  "
      ]
     },
     "execution_count": 19,
     "metadata": {},
     "output_type": "execute_result"
    }
   ],
   "source": [
    "orders.head()"
   ]
  },
  {
   "cell_type": "code",
   "execution_count": 20,
   "metadata": {},
   "outputs": [],
   "source": [
    "import matplotlib as plt\n",
    "%matplotlib inline"
   ]
  },
  {
   "cell_type": "code",
   "execution_count": 21,
   "metadata": {},
   "outputs": [
    {
     "data": {
      "text/plain": [
       "<AxesSubplot:xlabel='date'>"
      ]
     },
     "execution_count": 21,
     "metadata": {},
     "output_type": "execute_result"
    },
    {
     "data": {
      "image/png": "[encoded data removed]",
      "text/plain": [
       "<Figure size 1440x720 with 1 Axes>"
      ]
     },
     "metadata": {
      "needs_background": "light"
     },
     "output_type": "display_data"
    }
   ],
   "source": [
    "orders.plot.bar(x='date', y='total', figsize=(20,10))"
   ]
  },
  {
   "cell_type": "code",
   "execution_count": 22,
   "metadata": {},
   "outputs": [],
   "source": [
    "daily_orders = orders.groupby('date').sum()['total']"
   ]
  },
  {
   "cell_type": "code",
   "execution_count": 23,
   "metadata": {},
   "outputs": [
    {
     "data": {
      "text/plain": [
       "date\n",
       "2020-01-17     14.95\n",
       "2020-01-21    122.42\n",
       "2020-02-10     27.97\n",
       "2020-02-15     10.34\n",
       "2020-02-17     16.44\n",
       "2020-03-10     34.99\n",
       "2020-03-17     16.44\n",
       "2020-03-20     10.99\n",
       "2020-03-23     67.45\n",
       "2020-04-03     47.42\n",
       "2020-04-17     16.44\n",
       "2020-04-19     34.99\n",
       "2020-04-21     42.50\n",
       "2020-05-10     12.94\n",
       "2020-05-17     16.44\n",
       "2020-06-17     16.44\n",
       "2020-06-19     29.99\n",
       "2020-07-17     16.44\n",
       "2020-07-21     38.97\n",
       "2020-07-22    160.95\n",
       "2020-07-30     34.99\n",
       "2020-08-17     16.44\n",
       "2020-08-18     16.09\n",
       "2020-08-23      9.79\n",
       "2020-09-14     39.98\n",
       "2020-09-16      9.98\n",
       "2020-09-17     16.44\n",
       "2020-09-18     65.66\n",
       "2020-09-25     32.18\n",
       "2020-10-02     55.98\n",
       "2020-10-05    266.85\n",
       "2020-10-07     19.67\n",
       "2020-10-11     40.95\n",
       "2020-10-17     16.44\n",
       "2020-10-18     55.18\n",
       "2020-10-20     18.99\n",
       "2020-11-01      8.66\n",
       "Name: total, dtype: float64"
      ]
     },
     "execution_count": 23,
     "metadata": {},
     "output_type": "execute_result"
    },
    {
     "data": {
      "image/png": "[encoded data removed]",
      "text/plain": [
       "<Figure size 1440x720 with 1 Axes>"
      ]
     },
     "metadata": {
      "needs_background": "light"
     },
     "output_type": "display_data"
    }
   ],
   "source": [
    "daily_orders.plot.bar(figsize=(20,10), color='#8E44AD')\n",
    "daily_orders"
   ]
  },
  {
   "cell_type": "code",
   "execution_count": 24,
   "metadata": {},
   "outputs": [
    {
     "data": {
      "text/plain": [
       "0      1\n",
       "1      1\n",
       "3      3\n",
       "4      3\n",
       "5      3\n",
       "6      3\n",
       "7      2\n",
       "8      2\n",
       "9      2\n",
       "11     1\n",
       "12     1\n",
       "13     8\n",
       "14     7\n",
       "15     7\n",
       "16     7\n",
       "17     7\n",
       "18     6\n",
       "19     6\n",
       "20     5\n",
       "21     5\n",
       "23    10\n",
       "24     9\n",
       "25     9\n",
       "26     9\n",
       "27     9\n",
       "28     9\n",
       "29     9\n",
       "30     8\n",
       "32     8\n",
       "33     4\n",
       "34     4\n",
       "35     4\n",
       "36     4\n",
       "41     4\n",
       "42     3\n",
       "44    11\n",
       "45    10\n",
       "46    10\n",
       "47    10\n",
       "48    10\n",
       "49    10\n",
       "50    10\n",
       "51    10\n",
       "52    10\n",
       "Name: month, dtype: int64"
      ]
     },
     "execution_count": 24,
     "metadata": {},
     "output_type": "execute_result"
    }
   ],
   "source": [
    "orders['month'] = orders['date'].map(lambda x: x.month)\n",
    "orders['month']"
   ]
  },
  {
   "cell_type": "code",
   "execution_count": 26,
   "metadata": {},
   "outputs": [],
   "source": [
    "orders['check'] = pd.Series([1])\n",
    "orders.fillna(1, inplace=True)"
   ]
  },
  {
   "cell_type": "code",
   "execution_count": 27,
   "metadata": {},
   "outputs": [
    {
     "data": {
      "text/plain": [
       "<AxesSubplot:title={'center':'Number of Purchases per Month'}, xlabel='month'>"
      ]
     },
     "execution_count": 27,
     "metadata": {},
     "output_type": "execute_result"
    },
    {
     "data": {
      "image/png": "[encoded data removed]",
      "text/plain": [
       "<Figure size 1440x720 with 1 Axes>"
      ]
     },
     "metadata": {
      "needs_background": "light"
     },
     "output_type": "display_data"
    }
   ],
   "source": [
    "monthly_orders = orders.groupby('month').sum()['check']\n",
    "monthly_orders.plot.bar(figsize=(20,10), color='#00FFFF', title='Number of Purchases per Month')"
   ]
  },
  {
   "cell_type": "code",
   "execution_count": 28,
   "metadata": {},
   "outputs": [
    {
     "data": {
      "text/plain": [
       "<AxesSubplot:title={'center':'Amount Spent per Month'}, xlabel='month'>"
      ]
     },
     "execution_count": 28,
     "metadata": {},
     "output_type": "execute_result"
    },
    {
     "data": {
      "image/png": "[encoded data removed]",
      "text/plain": [
       "<Figure size 1440x720 with 1 Axes>"
      ]
     },
     "metadata": {
      "needs_background": "light"
     },
     "output_type": "display_data"
    }
   ],
   "source": [
    "monthly_totals = orders.groupby('month').sum()['total']\n",
    "monthly_totals.plot.bar(figsize=(20,10), color='#6633FF', title='Amount Spent per Month')"
   ]
  },
  {
   "cell_type": "code",
   "execution_count": 29,
   "metadata": {},
   "outputs": [
    {
     "data": {
      "text/plain": [
       "134.52545454545455"
      ]
     },
     "execution_count": 29,
     "metadata": {},
     "output_type": "execute_result"
    }
   ],
   "source": [
    "monthly_totals.mean()"
   ]
  },
  {
   "cell_type": "code",
   "execution_count": 30,
   "metadata": {},
   "outputs": [
    {
     "data": {
      "text/plain": [
       "4.0"
      ]
     },
     "execution_count": 30,
     "metadata": {},
     "output_type": "execute_result"
    }
   ],
   "source": [
    "monthly_orders.mean()"
   ]
  },
  {
   "cell_type": "code",
   "execution_count": null,
   "metadata": {},
   "outputs": [],
   "source": []
  }
 ],
 "metadata": {
  "kernelspec": {
   "display_name": "Python 3",
   "language": "python",
   "name": "python3"
  },
  "language_info": {
   "codemirror_mode": {
    "name": "ipython",
    "version": 3
   },
   "file_extension": ".py",
   "mimetype": "text/x-python",
   "name": "python",
   "nbconvert_exporter": "python",
   "pygments_lexer": "ipython3",
   "version": "3.8.5"
  }
 },
 "nbformat": 4,
 "nbformat_minor": 4
}
